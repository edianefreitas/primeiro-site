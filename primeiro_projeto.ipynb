{
  "nbformat": 4,
  "nbformat_minor": 0,
  "metadata": {
    "colab": {
      "provenance": [],
      "authorship_tag": "ABX9TyNxtf+Xs7i2mw3o8kpqvgHE",
      "include_colab_link": true
    },
    "kernelspec": {
      "name": "python3",
      "display_name": "Python 3"
    },
    "language_info": {
      "name": "python"
    }
  },
  "cells": [
    {
      "cell_type": "markdown",
      "metadata": {
        "id": "view-in-github",
        "colab_type": "text"
      },
      "source": [
        "<a href=\"https://colab.research.google.com/github/edianefreitas/primeiro-site/blob/main/primeiro_projeto.ipynb\" target=\"_parent\"><img src=\"https://colab.research.google.com/assets/colab-badge.svg\" alt=\"Open In Colab\"/></a>"
      ]
    },
    {
      "cell_type": "code",
      "execution_count": 5,
      "metadata": {
        "colab": {
          "base_uri": "https://localhost:8080/"
        },
        "id": "v0q53L0nxJA8",
        "outputId": "373df127-3b90-40c3-c643-0a46160b01e6"
      },
      "outputs": [
        {
          "output_type": "stream",
          "name": "stdout",
          "text": [
            "soma: 15\n",
            "subtracao: 5\n",
            "muitplicaco: 50\n",
            "divisao: 2.0\n",
            "6\n",
            "qual excluir?maria\n",
            "('joao',)\n"
          ]
        }
      ],
      "source": [
        "soma=[10,20,30,40,50]\n",
        "\n",
        "sum(soma)\n",
        "\n",
        "\n",
        "\n",
        "num1 = 10\n",
        "num2 = 5\n",
        "soma =num1+num2\n",
        "subtracao =num1-num2\n",
        "multiplicacao =num1*num2\n",
        "divisao =num1/num2\n",
        "\n",
        "print('soma:',soma)\n",
        "print('subtracao:',subtracao)\n",
        "print('muitplicaco:',multiplicacao)\n",
        "print('divisao:',divisao)\n",
        "\n",
        "\n",
        "dias_da_semana=[1,2,5,10,20,100]\n",
        "soma=len(dias_da_semana)\n",
        "print(soma)\n",
        "\n",
        "amigos=('joao','maria')\n",
        "excluir=input('qual excluir?')\n",
        "amigos=list(amigos)\n",
        "amigos.remove(excluir)\n",
        "amigos=tuple(amigos)\n",
        "print(amigos)"
      ]
    },
    {
      "cell_type": "code",
      "source": [
        "import random\n",
        "\n",
        "numero=random.randint(1,100)\n",
        "tentativas=0\n",
        "\n",
        "print('bem-vindos ao jogo da adivinhaçao!')\n",
        "print('eu escolhi um numero entre 1 e 100. voce tem tentativas para adivinhar.')\n",
        "\n",
        "while tentativas <10:\n",
        "  palpite=int(input('digite o seu palpite:'))\n",
        "  tentativas+=1\n",
        "\n",
        "  if palpite == numero:\n",
        "    print(f'parabens! voce acertou o numero em {tentativas}tentativas.')\n",
        "    break\n",
        "  elif palpite<numero:\n",
        "\n",
        "      print('o numero e maior. tente novamente.')\n",
        "  else:\n",
        "        print('o numero e menor. tente novamente.')\n",
        "else:\n",
        "          print(f'voce perdeu! o numero era{numero}.')\n",
        "\n"
      ],
      "metadata": {
        "colab": {
          "base_uri": "https://localhost:8080/"
        },
        "id": "Lw1WN3PAAiDl",
        "outputId": "0b40b83a-8a01-486b-d2c7-f34de3408c54"
      },
      "execution_count": 28,
      "outputs": [
        {
          "output_type": "stream",
          "name": "stdout",
          "text": [
            "bem-vindos ao jogo da adivinhaçao!\n",
            "eu escolhi um numero entre 1 e 100. voce tem tentativas para adivinhar.\n",
            "digite o seu palpite:23\n",
            "o numero e maior. tente novamente.\n",
            "digite o seu palpite:36\n",
            "o numero e maior. tente novamente.\n",
            "digite o seu palpite:65\n",
            "o numero e maior. tente novamente.\n",
            "digite o seu palpite:100\n",
            "o numero e menor. tente novamente.\n",
            "digite o seu palpite:90\n",
            "o numero e maior. tente novamente.\n",
            "digite o seu palpite:98\n",
            "o numero e menor. tente novamente.\n",
            "digite o seu palpite:95\n",
            "o numero e menor. tente novamente.\n",
            "digite o seu palpite:54\n",
            "o numero e maior. tente novamente.\n",
            "digite o seu palpite:93\n",
            "o numero e maior. tente novamente.\n",
            "digite o seu palpite:94\n",
            "parabens! voce acertou o numero em 10tentativas.\n"
          ]
        }
      ]
    },
    {
      "cell_type": "code",
      "source": [
        "n=[1,2,3,4,5]\n",
        "n.remove(3)\n",
        "print(n)\n"
      ],
      "metadata": {
        "colab": {
          "base_uri": "https://localhost:8080/"
        },
        "id": "HjJbVW4g4g1E",
        "outputId": "6cdd383f-526f-451a-953c-668c27e45ca2"
      },
      "execution_count": 6,
      "outputs": [
        {
          "output_type": "stream",
          "name": "stdout",
          "text": [
            "[1, 2, 4, 5]\n"
          ]
        }
      ]
    },
    {
      "cell_type": "code",
      "source": [
        "times=('santo','palmeiras','flamengo',)\n",
        "tim = str(input('qual time vc q excluir?'))\n",
        "times=list(times)\n",
        "times.remove(tim)\n",
        "times=tuple(times)\n",
        "print(times)\n",
        "\n"
      ],
      "metadata": {
        "colab": {
          "base_uri": "https://localhost:8080/"
        },
        "id": "zU-gFJAj41pU",
        "outputId": "51bfe738-7a34-45c0-9f86-8d3f0fccf43f"
      },
      "execution_count": 8,
      "outputs": [
        {
          "output_type": "stream",
          "name": "stdout",
          "text": [
            "qual time vc q excluir?flamengo\n",
            "('santo', 'palmeiras')\n"
          ]
        }
      ]
    },
    {
      "cell_type": "code",
      "source": [],
      "metadata": {
        "id": "_BiOX5Sa7lSz"
      },
      "execution_count": null,
      "outputs": []
    }
  ]
}