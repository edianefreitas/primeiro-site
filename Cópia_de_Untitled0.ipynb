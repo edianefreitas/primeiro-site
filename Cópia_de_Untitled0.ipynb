{
  "nbformat": 4,
  "nbformat_minor": 0,
  "metadata": {
    "colab": {
      "provenance": [],
      "authorship_tag": "ABX9TyMIZ9lBUoQcx+Xg/jzc8pgc",
      "include_colab_link": true
    },
    "kernelspec": {
      "name": "python3",
      "display_name": "Python 3"
    },
    "language_info": {
      "name": "python"
    }
  },
  "cells": [
    {
      "cell_type": "markdown",
      "metadata": {
        "id": "view-in-github",
        "colab_type": "text"
      },
      "source": [
        "<a href=\"https://colab.research.google.com/github/edianefreitas/primeiro-site/blob/main/C%C3%B3pia_de_Untitled0.ipynb\" target=\"_parent\"><img src=\"https://colab.research.google.com/assets/colab-badge.svg\" alt=\"Open In Colab\"/></a>"
      ]
    },
    {
      "cell_type": "code",
      "execution_count": null,
      "metadata": {
        "colab": {
          "base_uri": "https://localhost:8080/"
        },
        "id": "VfP4bX2oifdJ",
        "outputId": "b42b0cfd-ba1c-423f-94e5-62e5865bde1b"
      },
      "outputs": [
        {
          "output_type": "stream",
          "name": "stdout",
          "text": [
            "a lista de numeros e: [3, 5, 8, 9, 12, 15, 18, 21]\n",
            "a soma de todos os numeros impares da lista e: 53\n"
          ]
        }
      ],
      "source": [
        "lista = [3,5,8,9,12,15,18,21]\n",
        "soma_impares = 0\n",
        "\n",
        "for num in lista:\n",
        "    if num%2!= 0: #vereficar se o numero e impar\n",
        "      soma_impares+=num #adiciona o numero da soma\n",
        "\n",
        "print('a lista de numeros e:', lista)\n",
        "print('a soma de todos os numeros impares da lista e:', soma_impares)\n",
        "\n"
      ]
    }
  ]
}